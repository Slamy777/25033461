{
 "cells": [
  {
   "cell_type": "code",
   "execution_count": 2,
   "metadata": {},
   "outputs": [
    {
     "name": "stdout",
     "output_type": "stream",
     "text": [
      "Requirement already satisfied: line-bot-sdk in c:\\users\\danie\\appdata\\local\\programs\\python\\python311\\lib\\site-packages (3.13.0)\n",
      "Requirement already satisfied: flask in c:\\users\\danie\\appdata\\local\\programs\\python\\python311\\lib\\site-packages (3.0.3)\n",
      "Requirement already satisfied: pyquery in c:\\users\\danie\\appdata\\local\\programs\\python\\python311\\lib\\site-packages (2.0.1)\n",
      "Requirement already satisfied: gunicorn in c:\\users\\danie\\appdata\\local\\programs\\python\\python311\\lib\\site-packages (23.0.0)\n",
      "Requirement already satisfied: openai in c:\\users\\danie\\appdata\\local\\programs\\python\\python311\\lib\\site-packages (1.51.2)\n",
      "Requirement already satisfied: requests<3,>=2.32.3 in c:\\users\\danie\\appdata\\local\\programs\\python\\python311\\lib\\site-packages (from line-bot-sdk) (2.32.3)\n",
      "Requirement already satisfied: urllib3<3,>=2.0.5 in c:\\users\\danie\\appdata\\local\\programs\\python\\python311\\lib\\site-packages (from line-bot-sdk) (2.2.3)\n",
      "Requirement already satisfied: aiohttp==3.10.5 in c:\\users\\danie\\appdata\\local\\programs\\python\\python311\\lib\\site-packages (from line-bot-sdk) (3.10.5)\n",
      "Requirement already satisfied: future in c:\\users\\danie\\appdata\\local\\programs\\python\\python311\\lib\\site-packages (from line-bot-sdk) (1.0.0)\n",
      "Requirement already satisfied: pydantic<3,>=2.0.3 in c:\\users\\danie\\appdata\\local\\programs\\python\\python311\\lib\\site-packages (from line-bot-sdk) (2.9.2)\n",
      "Requirement already satisfied: aenum>=3.1.11 in c:\\users\\danie\\appdata\\local\\programs\\python\\python311\\lib\\site-packages (from line-bot-sdk) (3.1.15)\n",
      "Requirement already satisfied: python-dateutil>=2.5.3 in c:\\users\\danie\\appdata\\roaming\\python\\python311\\site-packages (from line-bot-sdk) (2.9.0.post0)\n",
      "Requirement already satisfied: Deprecated in c:\\users\\danie\\appdata\\local\\programs\\python\\python311\\lib\\site-packages (from line-bot-sdk) (1.2.14)\n",
      "Requirement already satisfied: aiohappyeyeballs>=2.3.0 in c:\\users\\danie\\appdata\\local\\programs\\python\\python311\\lib\\site-packages (from aiohttp==3.10.5->line-bot-sdk) (2.4.3)\n",
      "Requirement already satisfied: aiosignal>=1.1.2 in c:\\users\\danie\\appdata\\local\\programs\\python\\python311\\lib\\site-packages (from aiohttp==3.10.5->line-bot-sdk) (1.3.1)\n",
      "Requirement already satisfied: attrs>=17.3.0 in c:\\users\\danie\\appdata\\local\\programs\\python\\python311\\lib\\site-packages (from aiohttp==3.10.5->line-bot-sdk) (24.2.0)\n",
      "Requirement already satisfied: frozenlist>=1.1.1 in c:\\users\\danie\\appdata\\local\\programs\\python\\python311\\lib\\site-packages (from aiohttp==3.10.5->line-bot-sdk) (1.4.1)\n",
      "Requirement already satisfied: multidict<7.0,>=4.5 in c:\\users\\danie\\appdata\\local\\programs\\python\\python311\\lib\\site-packages (from aiohttp==3.10.5->line-bot-sdk) (6.1.0)\n",
      "Requirement already satisfied: yarl<2.0,>=1.0 in c:\\users\\danie\\appdata\\local\\programs\\python\\python311\\lib\\site-packages (from aiohttp==3.10.5->line-bot-sdk) (1.15.5)\n",
      "Requirement already satisfied: Werkzeug>=3.0.0 in c:\\users\\danie\\appdata\\local\\programs\\python\\python311\\lib\\site-packages (from flask) (3.0.4)\n",
      "Requirement already satisfied: Jinja2>=3.1.2 in c:\\users\\danie\\appdata\\local\\programs\\python\\python311\\lib\\site-packages (from flask) (3.1.4)\n",
      "Requirement already satisfied: itsdangerous>=2.1.2 in c:\\users\\danie\\appdata\\local\\programs\\python\\python311\\lib\\site-packages (from flask) (2.2.0)\n",
      "Requirement already satisfied: click>=8.1.3 in c:\\users\\danie\\appdata\\local\\programs\\python\\python311\\lib\\site-packages (from flask) (8.1.7)\n",
      "Requirement already satisfied: blinker>=1.6.2 in c:\\users\\danie\\appdata\\local\\programs\\python\\python311\\lib\\site-packages (from flask) (1.8.2)\n",
      "Requirement already satisfied: lxml>=2.1 in c:\\users\\danie\\appdata\\local\\programs\\python\\python311\\lib\\site-packages (from pyquery) (5.3.0)\n",
      "Requirement already satisfied: cssselect>=1.2.0 in c:\\users\\danie\\appdata\\local\\programs\\python\\python311\\lib\\site-packages (from pyquery) (1.2.0)\n",
      "Requirement already satisfied: packaging in c:\\users\\danie\\appdata\\roaming\\python\\python311\\site-packages (from gunicorn) (24.1)\n",
      "Requirement already satisfied: anyio<5,>=3.5.0 in c:\\users\\danie\\appdata\\local\\programs\\python\\python311\\lib\\site-packages (from openai) (4.6.0)\n",
      "Requirement already satisfied: distro<2,>=1.7.0 in c:\\users\\danie\\appdata\\local\\programs\\python\\python311\\lib\\site-packages (from openai) (1.9.0)\n",
      "Requirement already satisfied: httpx<1,>=0.23.0 in c:\\users\\danie\\appdata\\local\\programs\\python\\python311\\lib\\site-packages (from openai) (0.27.2)\n",
      "Requirement already satisfied: jiter<1,>=0.4.0 in c:\\users\\danie\\appdata\\local\\programs\\python\\python311\\lib\\site-packages (from openai) (0.6.1)\n",
      "Requirement already satisfied: sniffio in c:\\users\\danie\\appdata\\local\\programs\\python\\python311\\lib\\site-packages (from openai) (1.3.1)\n",
      "Requirement already satisfied: tqdm>4 in c:\\users\\danie\\appdata\\local\\programs\\python\\python311\\lib\\site-packages (from openai) (4.66.5)\n",
      "Requirement already satisfied: typing-extensions<5,>=4.11 in c:\\users\\danie\\appdata\\roaming\\python\\python311\\site-packages (from openai) (4.12.2)\n",
      "Requirement already satisfied: idna>=2.8 in c:\\users\\danie\\appdata\\local\\programs\\python\\python311\\lib\\site-packages (from anyio<5,>=3.5.0->openai) (3.10)\n",
      "Requirement already satisfied: colorama in c:\\users\\danie\\appdata\\roaming\\python\\python311\\site-packages (from click>=8.1.3->flask) (0.4.6)\n",
      "Requirement already satisfied: certifi in c:\\users\\danie\\appdata\\local\\programs\\python\\python311\\lib\\site-packages (from httpx<1,>=0.23.0->openai) (2024.8.30)\n",
      "Requirement already satisfied: httpcore==1.* in c:\\users\\danie\\appdata\\local\\programs\\python\\python311\\lib\\site-packages (from httpx<1,>=0.23.0->openai) (1.0.6)\n",
      "Requirement already satisfied: h11<0.15,>=0.13 in c:\\users\\danie\\appdata\\local\\programs\\python\\python311\\lib\\site-packages (from httpcore==1.*->httpx<1,>=0.23.0->openai) (0.14.0)\n",
      "Requirement already satisfied: MarkupSafe>=2.0 in c:\\users\\danie\\appdata\\local\\programs\\python\\python311\\lib\\site-packages (from Jinja2>=3.1.2->flask) (3.0.2)\n",
      "Requirement already satisfied: annotated-types>=0.6.0 in c:\\users\\danie\\appdata\\local\\programs\\python\\python311\\lib\\site-packages (from pydantic<3,>=2.0.3->line-bot-sdk) (0.7.0)\n",
      "Requirement already satisfied: pydantic-core==2.23.4 in c:\\users\\danie\\appdata\\local\\programs\\python\\python311\\lib\\site-packages (from pydantic<3,>=2.0.3->line-bot-sdk) (2.23.4)\n",
      "Requirement already satisfied: six>=1.5 in c:\\users\\danie\\appdata\\roaming\\python\\python311\\site-packages (from python-dateutil>=2.5.3->line-bot-sdk) (1.16.0)\n",
      "Requirement already satisfied: charset-normalizer<4,>=2 in c:\\users\\danie\\appdata\\local\\programs\\python\\python311\\lib\\site-packages (from requests<3,>=2.32.3->line-bot-sdk) (3.3.2)\n",
      "Requirement already satisfied: wrapt<2,>=1.10 in c:\\users\\danie\\appdata\\local\\programs\\python\\python311\\lib\\site-packages (from Deprecated->line-bot-sdk) (1.16.0)\n",
      "Requirement already satisfied: propcache>=0.2.0 in c:\\users\\danie\\appdata\\local\\programs\\python\\python311\\lib\\site-packages (from yarl<2.0,>=1.0->aiohttp==3.10.5->line-bot-sdk) (0.2.0)\n"
     ]
    },
    {
     "name": "stderr",
     "output_type": "stream",
     "text": [
      "\n",
      "[notice] A new release of pip is available: 23.2.1 -> 24.2\n",
      "[notice] To update, run: python.exe -m pip install --upgrade pip\n"
     ]
    }
   ],
   "source": [
    "! pip install line-bot-sdk flask pyquery gunicorn openai"
   ]
  }
 ],
 "metadata": {
  "kernelspec": {
   "display_name": "Python 3",
   "language": "python",
   "name": "python3"
  },
  "language_info": {
   "codemirror_mode": {
    "name": "ipython",
    "version": 3
   },
   "file_extension": ".py",
   "mimetype": "text/x-python",
   "name": "python",
   "nbconvert_exporter": "python",
   "pygments_lexer": "ipython3",
   "version": "3.11.5"
  }
 },
 "nbformat": 4,
 "nbformat_minor": 2
}
